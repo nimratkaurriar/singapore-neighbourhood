{
    "cells": [
        {
            "metadata": {
                "collapsed": true
            },
            "cell_type": "markdown",
            "source": "# Data"
        },
        {
            "metadata": {},
            "cell_type": "markdown",
            "source": "I have taken the data regarding toronto from the wikipedia page-\"https://en.wikipedia.org/w/index.php?title=List_of_postal_codes_of_Canada:_M&oldid=935851093 and geosaptial data from this file-'http://cocl.us/Geospatial_data' .Then I merge the two dataframes obtained to get a cosolidated locational data of toronto.After that i use venues data from foursqaure api to obtain restraunt category information .The restarunt's are then categorized into cusine types like-afgani,indian etc-manually.After that i perform k-clustering to ascertain we"
        }
    ],
    "metadata": {
        "kernelspec": {
            "name": "python3",
            "display_name": "Python 3.6",
            "language": "python"
        },
        "language_info": {
            "name": "python",
            "version": "3.6.9",
            "mimetype": "text/x-python",
            "codemirror_mode": {
                "name": "ipython",
                "version": 3
            },
            "pygments_lexer": "ipython3",
            "nbconvert_exporter": "python",
            "file_extension": ".py"
        }
    },
    "nbformat": 4,
    "nbformat_minor": 1
}