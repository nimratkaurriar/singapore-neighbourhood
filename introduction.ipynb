{
    "cells": [
        {
            "metadata": {
                "collapsed": true
            },
            "cell_type": "markdown",
            "source": "# Introduction of problem"
        },
        {
            "metadata": {},
            "cell_type": "markdown",
            "source": "Singapore is a multi-cultural and densely populated city.It is also a importnat business hub in south asia.In this project i would cluster the neihbourhoods based on the their food habits.I would do so by segmenting the neighbourhoods on the basis of dominant restraunt cusinies in the area.This analysis can help understand wheather or not the dominating cusinie type of a neighbourhood depends on the community living there.The analysis can also be used by a aspiring chef/food vendor to find the best place for his restraunt.\n"
        },
        {
            "metadata": {},
            "cell_type": "code",
            "source": "",
            "execution_count": null,
            "outputs": []
        }
    ],
    "metadata": {
        "kernelspec": {
            "name": "python3",
            "display_name": "Python 3.6",
            "language": "python"
        },
        "language_info": {
            "name": "python",
            "version": "3.6.9",
            "mimetype": "text/x-python",
            "codemirror_mode": {
                "name": "ipython",
                "version": 3
            },
            "pygments_lexer": "ipython3",
            "nbconvert_exporter": "python",
            "file_extension": ".py"
        }
    },
    "nbformat": 4,
    "nbformat_minor": 1
}