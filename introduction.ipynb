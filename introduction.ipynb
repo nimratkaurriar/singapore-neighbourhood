{
    "cells": [
        {
            "cell_type": "markdown",
            "metadata": {
                "collapsed": true
            },
            "source": "# Introduction of problem"
        },
        {
            "cell_type": "markdown",
            "metadata": {},
            "source": "Toronto is a multi-cultural and densely populated city.It is also a importnat business hub in south asia.In this project i would cluster the neihbourhoods based on the their food habits.I would do so by segmenting the neighbourhoods on the basis of dominant restraunt cusinies in the area.This analysis can help understand wheather or not the dominating cusinie type of a neighbourhood depends on the community living there.The analysis can also be used by a aspiring chef/food vendor to find the best place for his restraunt.\n"
        },
        {
            "cell_type": "code",
            "execution_count": null,
            "metadata": {},
            "outputs": [],
            "source": ""
        }
    ],
    "metadata": {
        "kernelspec": {
            "display_name": "Python 3.6",
            "language": "python",
            "name": "python3"
        },
        "language_info": {
            "codemirror_mode": {
                "name": "ipython",
                "version": 3
            },
            "file_extension": ".py",
            "mimetype": "text/x-python",
            "name": "python",
            "nbconvert_exporter": "python",
            "pygments_lexer": "ipython3",
            "version": "3.6.9"
        }
    },
    "nbformat": 4,
    "nbformat_minor": 1
}